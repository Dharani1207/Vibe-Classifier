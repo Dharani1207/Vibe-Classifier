{
 "cells": [
  {
   "cell_type": "code",
   "execution_count": 16,
   "id": "626b0700",
   "metadata": {},
   "outputs": [
    {
     "name": "stdout",
     "output_type": "stream",
     "text": [
      "✅ Selected features by Boruta: ['dist_to_park', 'road_density', 'road_length', 'traffic_level_low', 'traffic_level_medium']\n"
     ]
    }
   ],
   "source": [
    "import pandas as pd\n",
    "from sklearn.preprocessing import StandardScaler, OneHotEncoder\n",
    "from sklearn.ensemble import RandomForestClassifier\n",
    "from boruta import BorutaPy\n",
    "from sklearn.compose import ColumnTransformer\n",
    "from sklearn.pipeline import Pipeline\n",
    "\n",
    "# Load data\n",
    "df = pd.read_csv(\"datasets/vibe_full_features_with_scraped_new_updated.csv\")\n",
    "\n",
    "# Drop missing image paths if needed\n",
    "df = df.dropna(subset=['sentinel_jpg_path', 'osm_image_path'])\n",
    "\n",
    "# Define features\n",
    "numeric_features = ['dist_to_park', 'road_density', 'road_length', 'populartimes_peak_avg']\n",
    "categorical_features = ['traffic_level', 'time_of_day']\n",
    "target_col = 'vibe_class'\n",
    "\n",
    "# Encode categorical + scale numeric using ColumnTransformer\n",
    "preprocessor = ColumnTransformer([\n",
    "    ('num', StandardScaler(), numeric_features),\n",
    "    ('cat', OneHotEncoder(drop='first'), categorical_features)  # drop='first' to avoid dummy trap\n",
    "])\n",
    "\n",
    "X = preprocessor.fit_transform(df[numeric_features + categorical_features])\n",
    "y = df[target_col].values  # Already label-encoded\n",
    "\n",
    "# Run Boruta\n",
    "forest = RandomForestClassifier(n_jobs=-1, class_weight='balanced', max_depth=5, random_state=42)\n",
    "boruta = BorutaPy(estimator=forest, n_estimators='auto', random_state=42)\n",
    "boruta.fit(X, y)\n",
    "\n",
    "# Get all feature names from ColumnTransformer\n",
    "ohe = preprocessor.named_transformers_['cat']\n",
    "cat_feature_names = ohe.get_feature_names_out(categorical_features)\n",
    "all_feature_names = numeric_features + list(cat_feature_names)\n",
    "\n",
    "# Get selected features\n",
    "selected = [name for name, keep in zip(all_feature_names, boruta.support_) if keep]\n",
    "print(\"✅ Selected features by Boruta:\", selected)\n"
   ]
  },
  {
   "cell_type": "code",
   "execution_count": 15,
   "id": "d1cdec0a",
   "metadata": {},
   "outputs": [
    {
     "name": "stdout",
     "output_type": "stream",
     "text": [
      "✅ Saved: datasets/vibe_features_selected.csv\n"
     ]
    }
   ],
   "source": [
    "import pandas as pd\n",
    "\n",
    "# === CONFIG ===\n",
    "INPUT_CSV = \"datasets/vibe_full_features_with_scraped_new_updated.csv\"\n",
    "SELECTED_FEATURES = selected\n",
    "CATEGORICAL_FEATURES = ['traffic_level', 'time_of_day']\n",
    "NUMERIC_FEATURES = ['dist_to_park', 'road_density', 'road_length']\n",
    "ESSENTIAL_COLUMNS = ['vibe_class', 'sentinel_jpg_path', 'osm_image_path']\n",
    "OUTPUT_CSV = \"datasets/vibe_features_selected.csv\"\n",
    "\n",
    "# === Load Data ===\n",
    "df = pd.read_csv(INPUT_CSV)\n",
    "\n",
    "# === Reapply Encoding ===\n",
    "encoded_df = pd.get_dummies(df[CATEGORICAL_FEATURES], drop_first=False)\n",
    "numeric_df = df[NUMERIC_FEATURES]\n",
    "combined_df = pd.concat([numeric_df, encoded_df], axis=1)\n",
    "\n",
    "# === Sanity check for missing features ===\n",
    "missing = [col for col in SELECTED_FEATURES if col not in combined_df.columns]\n",
    "if missing:\n",
    "    print(f\"⚠️ Warning: Missing selected features: {missing}\")\n",
    "\n",
    "# === Filter selected features only ===\n",
    "final_features = combined_df[SELECTED_FEATURES]\n",
    "\n",
    "# === Add back essential columns ===\n",
    "final_df = pd.concat([final_features, df[ESSENTIAL_COLUMNS]], axis=1)\n",
    "\n",
    "# === Save Final CSV ===\n",
    "final_df.to_csv(OUTPUT_CSV, index=False)\n",
    "print(f\"✅ Saved: {OUTPUT_CSV}\")\n"
   ]
  },
  {
   "cell_type": "code",
   "execution_count": null,
   "id": "39657e70",
   "metadata": {},
   "outputs": [
    {
     "ename": "KeyError",
     "evalue": "\"['sentinel_png_path'] not in index\"",
     "output_type": "error",
     "traceback": [
      "\u001b[1;31m---------------------------------------------------------------------------\u001b[0m",
      "\u001b[1;31mKeyError\u001b[0m                                  Traceback (most recent call last)",
      "Cell \u001b[1;32mIn[14], line 1\u001b[0m\n\u001b[1;32m----> 1\u001b[0m \u001b[43mdf\u001b[49m\u001b[43m[\u001b[49m\u001b[43mESSENTIAL_COLUMNS\u001b[49m\u001b[43m]\u001b[49m\n",
      "File \u001b[1;32mc:\\Users\\KAUSIK\\anaconda3\\envs\\hma\\lib\\site-packages\\pandas\\core\\frame.py:4108\u001b[0m, in \u001b[0;36mDataFrame.__getitem__\u001b[1;34m(self, key)\u001b[0m\n\u001b[0;32m   4106\u001b[0m     \u001b[38;5;28;01mif\u001b[39;00m is_iterator(key):\n\u001b[0;32m   4107\u001b[0m         key \u001b[38;5;241m=\u001b[39m \u001b[38;5;28mlist\u001b[39m(key)\n\u001b[1;32m-> 4108\u001b[0m     indexer \u001b[38;5;241m=\u001b[39m \u001b[38;5;28;43mself\u001b[39;49m\u001b[38;5;241;43m.\u001b[39;49m\u001b[43mcolumns\u001b[49m\u001b[38;5;241;43m.\u001b[39;49m\u001b[43m_get_indexer_strict\u001b[49m\u001b[43m(\u001b[49m\u001b[43mkey\u001b[49m\u001b[43m,\u001b[49m\u001b[43m \u001b[49m\u001b[38;5;124;43m\"\u001b[39;49m\u001b[38;5;124;43mcolumns\u001b[39;49m\u001b[38;5;124;43m\"\u001b[39;49m\u001b[43m)\u001b[49m[\u001b[38;5;241m1\u001b[39m]\n\u001b[0;32m   4110\u001b[0m \u001b[38;5;66;03m# take() does not accept boolean indexers\u001b[39;00m\n\u001b[0;32m   4111\u001b[0m \u001b[38;5;28;01mif\u001b[39;00m \u001b[38;5;28mgetattr\u001b[39m(indexer, \u001b[38;5;124m\"\u001b[39m\u001b[38;5;124mdtype\u001b[39m\u001b[38;5;124m\"\u001b[39m, \u001b[38;5;28;01mNone\u001b[39;00m) \u001b[38;5;241m==\u001b[39m \u001b[38;5;28mbool\u001b[39m:\n",
      "File \u001b[1;32mc:\\Users\\KAUSIK\\anaconda3\\envs\\hma\\lib\\site-packages\\pandas\\core\\indexes\\base.py:6200\u001b[0m, in \u001b[0;36mIndex._get_indexer_strict\u001b[1;34m(self, key, axis_name)\u001b[0m\n\u001b[0;32m   6197\u001b[0m \u001b[38;5;28;01melse\u001b[39;00m:\n\u001b[0;32m   6198\u001b[0m     keyarr, indexer, new_indexer \u001b[38;5;241m=\u001b[39m \u001b[38;5;28mself\u001b[39m\u001b[38;5;241m.\u001b[39m_reindex_non_unique(keyarr)\n\u001b[1;32m-> 6200\u001b[0m \u001b[38;5;28;43mself\u001b[39;49m\u001b[38;5;241;43m.\u001b[39;49m\u001b[43m_raise_if_missing\u001b[49m\u001b[43m(\u001b[49m\u001b[43mkeyarr\u001b[49m\u001b[43m,\u001b[49m\u001b[43m \u001b[49m\u001b[43mindexer\u001b[49m\u001b[43m,\u001b[49m\u001b[43m \u001b[49m\u001b[43maxis_name\u001b[49m\u001b[43m)\u001b[49m\n\u001b[0;32m   6202\u001b[0m keyarr \u001b[38;5;241m=\u001b[39m \u001b[38;5;28mself\u001b[39m\u001b[38;5;241m.\u001b[39mtake(indexer)\n\u001b[0;32m   6203\u001b[0m \u001b[38;5;28;01mif\u001b[39;00m \u001b[38;5;28misinstance\u001b[39m(key, Index):\n\u001b[0;32m   6204\u001b[0m     \u001b[38;5;66;03m# GH 42790 - Preserve name from an Index\u001b[39;00m\n",
      "File \u001b[1;32mc:\\Users\\KAUSIK\\anaconda3\\envs\\hma\\lib\\site-packages\\pandas\\core\\indexes\\base.py:6252\u001b[0m, in \u001b[0;36mIndex._raise_if_missing\u001b[1;34m(self, key, indexer, axis_name)\u001b[0m\n\u001b[0;32m   6249\u001b[0m     \u001b[38;5;28;01mraise\u001b[39;00m \u001b[38;5;167;01mKeyError\u001b[39;00m(\u001b[38;5;124mf\u001b[39m\u001b[38;5;124m\"\u001b[39m\u001b[38;5;124mNone of [\u001b[39m\u001b[38;5;132;01m{\u001b[39;00mkey\u001b[38;5;132;01m}\u001b[39;00m\u001b[38;5;124m] are in the [\u001b[39m\u001b[38;5;132;01m{\u001b[39;00maxis_name\u001b[38;5;132;01m}\u001b[39;00m\u001b[38;5;124m]\u001b[39m\u001b[38;5;124m\"\u001b[39m)\n\u001b[0;32m   6251\u001b[0m not_found \u001b[38;5;241m=\u001b[39m \u001b[38;5;28mlist\u001b[39m(ensure_index(key)[missing_mask\u001b[38;5;241m.\u001b[39mnonzero()[\u001b[38;5;241m0\u001b[39m]]\u001b[38;5;241m.\u001b[39munique())\n\u001b[1;32m-> 6252\u001b[0m \u001b[38;5;28;01mraise\u001b[39;00m \u001b[38;5;167;01mKeyError\u001b[39;00m(\u001b[38;5;124mf\u001b[39m\u001b[38;5;124m\"\u001b[39m\u001b[38;5;132;01m{\u001b[39;00mnot_found\u001b[38;5;132;01m}\u001b[39;00m\u001b[38;5;124m not in index\u001b[39m\u001b[38;5;124m\"\u001b[39m)\n",
      "\u001b[1;31mKeyError\u001b[0m: \"['sentinel_png_path'] not in index\""
     ]
    }
   ],
   "source": [
    "df[ESSENTIAL_COLUMNS]"
   ]
  },
  {
   "cell_type": "code",
   "execution_count": null,
   "id": "af17d609",
   "metadata": {},
   "outputs": [],
   "source": []
  }
 ],
 "metadata": {
  "kernelspec": {
   "display_name": "hma",
   "language": "python",
   "name": "python3"
  },
  "language_info": {
   "codemirror_mode": {
    "name": "ipython",
    "version": 3
   },
   "file_extension": ".py",
   "mimetype": "text/x-python",
   "name": "python",
   "nbconvert_exporter": "python",
   "pygments_lexer": "ipython3",
   "version": "3.10.16"
  }
 },
 "nbformat": 4,
 "nbformat_minor": 5
}
