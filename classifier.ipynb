{
 "cells": [
  {
   "cell_type": "code",
   "execution_count": 91,
   "id": "81fa0884",
   "metadata": {},
   "outputs": [],
   "source": [
    "# Multimodal Vibe Classifier: ResNet50 + Metadata + Dual Image Inputs\n",
    "\n",
    "import pandas as pd\n",
    "import os\n",
    "from sklearn.model_selection import train_test_split\n",
    "from sklearn.preprocessing import StandardScaler, LabelEncoder\n",
    "from PIL import Image\n",
    "import torch\n",
    "import torch.nn as nn\n",
    "from torch.utils.data import Dataset, DataLoader\n",
    "import torchvision.transforms as transforms\n",
    "import torchvision.models as models\n"
   ]
  },
  {
   "cell_type": "code",
   "execution_count": 92,
   "id": "e73fbda8",
   "metadata": {},
   "outputs": [
    {
     "name": "stdout",
     "output_type": "stream",
     "text": [
      "cuda\n"
     ]
    }
   ],
   "source": [
    "# Check CUDA avilability\n",
    "device = torch.device(\"cuda\") if torch.cuda.is_available() else torch.device(\"cpu\")\n",
    "print(device)"
   ]
  },
  {
   "cell_type": "code",
   "execution_count": 93,
   "id": "167d16ae",
   "metadata": {},
   "outputs": [],
   "source": [
    "# === CONFIG ===\n",
    "CSV_PATH = \"datasets/vibe_features_selected.csv\"\n",
    "SENTINEL_COL = \"sentinel_jpg_path\"\n",
    "OSM_COL = \"osm_image_path\"\n",
    "LABEL_COL = \"vibe_class\"\n",
    "BATCH_SIZE = 1\n",
    "IMG_SIZE = 224\n",
    "RANDOM_STATE = 42"
   ]
  },
  {
   "cell_type": "code",
   "execution_count": null,
   "id": "4bf99049",
   "metadata": {},
   "outputs": [],
   "source": [
    "def load_and_preprocess_csv(csv_path):\n",
    "    \"\"\"\n",
    "    Loads a CSV file and prepares it for multimodal training by encoding labels,\n",
    "    converting categorical columns into usable format, and organizing feature lists.\n",
    "\n",
    "    Args:\n",
    "        csv_path (str): Path to the input CSV containing image paths, labels, and metadata features.\n",
    "\n",
    "    Returns:\n",
    "        df (pd.DataFrame): The processed DataFrame with encoded labels and cleaned features.\n",
    "        numeric_cols (list): List of numeric metadata features (e.g., distances, densities).\n",
    "        one_hot_cols (list): List of binary one-hot encoded categorical features (e.g., traffic level).\n",
    "        all_tabular_cols (list): Combined list of all tabular (non-image) feature column names.\n",
    "    \"\"\"\n",
    "    df = pd.read_csv(csv_path)\n",
    "    df[LABEL_COL] = LabelEncoder().fit_transform(df[LABEL_COL])\n",
    "\n",
    "    # One-hot encode categorical columns\n",
    "    # df = pd.get_dummies(df, columns=[\"traffic_level\", \"time_of_day\"])\n",
    "    # df = pd.get_dummies(df, columns=[\"traffic_level_medium\", \"traffic_level_low\"])\n",
    "    \n",
    "    # Feature Engineered \n",
    "    df[\"traffic_level_low\"] = df[\"traffic_level_low\"].astype(int)\n",
    "    df[\"traffic_level_medium\"] = df[\"traffic_level_medium\"].astype(int)\n",
    "\n",
    "    # All features\n",
    "    # numeric_cols = [\"dist_to_park\", \"road_density\", \"road_length\", \"populartimes_peak_avg\"]\n",
    "    # one_hot_cols = [c for c in df.columns if \"traffic_level_\" in c or \"time_of_day_\" in c]\n",
    "\n",
    "    # Feature Engineered\n",
    "    numeric_cols = [\"dist_to_park\", \"road_density\", \"road_length\"]\n",
    "    one_hot_cols = [c for c in df.columns if \"traffic_level_\" in c ]\n",
    "    all_tabular_cols = numeric_cols + one_hot_cols\n",
    "\n",
    "    return df, numeric_cols, one_hot_cols, all_tabular_cols\n"
   ]
  },
  {
   "cell_type": "code",
   "execution_count": 95,
   "id": "21c0e37d",
   "metadata": {},
   "outputs": [],
   "source": [
    "from sklearn.model_selection import train_test_split\n",
    "from sklearn.preprocessing import StandardScaler\n",
    "import joblib\n",
    "\n",
    "def split_and_scale(df, all_tabular_cols, test_size=0.1, val_size=0.2, random_state=42):\n",
    "    \"\"\"\n",
    "    Splits the DataFrame into train, val, test sets and returns a scaler-transformer function.\n",
    "    \n",
    "    Parameters:\n",
    "        df (pd.DataFrame): Full dataset\n",
    "        all_tabular_cols (list): List of tabular feature column names\n",
    "        test_size (float): Proportion of data for test set\n",
    "        val_size (float): Proportion of data for val set (from remaining after test split)\n",
    "        random_state (int): Seed for reproducibility\n",
    "\n",
    "    Returns:\n",
    "        df_train, df_val, df_test (pd.DataFrame): Split data\n",
    "        scale_fn (callable): Function to apply scaling on tabular data\n",
    "    \"\"\"\n",
    "    # Step 1: Split off test set\n",
    "    df_temp, df_test = train_test_split(\n",
    "        df, test_size=test_size, stratify=df[LABEL_COL], random_state=random_state\n",
    "    )\n",
    "\n",
    "    # Step 2: Split remaining into train and val\n",
    "    adjusted_val_size = val_size / (1 - test_size)\n",
    "    df_train, df_val = train_test_split(\n",
    "        df_temp, test_size=adjusted_val_size, stratify=df_temp[LABEL_COL], random_state=random_state\n",
    "    )\n",
    "\n",
    "    # Step 3: Fit scaler on training data\n",
    "    scaler = StandardScaler()\n",
    "    scaler.fit(df_train[all_tabular_cols])\n",
    "    joblib.dump(scaler, \"scaler.pkl\")\n",
    "\n",
    "    # Step 4: Return scale function that applies the same scaling\n",
    "    def scale_fn(df_part):\n",
    "        return scaler.transform(df_part[all_tabular_cols])\n",
    "\n",
    "    return df_train, df_val, df_test, scale_fn\n"
   ]
  },
  {
   "cell_type": "code",
   "execution_count": null,
   "id": "d74db46c",
   "metadata": {},
   "outputs": [],
   "source": [
    "# Dataset Class\n",
    "class VibeDataset(Dataset):\n",
    "    \"\"\"A custom PyTorch Dataset class for handling multimodal data (images and tabular data).\n",
    "    \n",
    "    Args:\n",
    "        df (pd.DataFrame): DataFrame containing file paths and labels\n",
    "        scale_fn (callable): Function to scale/normalize the tabular data\n",
    "        transform (callable, optional): Optional transform to be applied to the images\n",
    "    \n",
    "    Attributes:\n",
    "        df (pd.DataFrame): Processed DataFrame with reset index\n",
    "        transform (callable): Image transformations\n",
    "        tabular_data (np.ndarray): Scaled tabular features\n",
    "    \"\"\"\n",
    "    def __init__(self, df, scale_fn, transform=None):\n",
    "        self.df = df.reset_index(drop=True)\n",
    "        self.transform = transform\n",
    "        self.tabular_data = scale_fn(df)\n",
    "\n",
    "    def __len__(self):\n",
    "        \"\"\"Returns the number of samples in the dataset.\n",
    "        \n",
    "        Returns:\n",
    "            int: Length of the dataset\n",
    "        \"\"\"\n",
    "        return len(self.df)\n",
    "\n",
    "    def __getitem__(self, idx):\n",
    "        \"\"\"Gets a single sample from the dataset at the given index.\n",
    "        \n",
    "        Args:\n",
    "            idx (int): Index of the sample to retrieve\n",
    "            \n",
    "        Returns:\n",
    "            tuple: Contains:\n",
    "                - sentinel_img (torch.Tensor): Transformed Sentinel-2 image\n",
    "                - osm_img (torch.Tensor): Transformed OSM image  \n",
    "                - tabular (torch.Tensor): Scaled tabular features\n",
    "                - label (torch.Tensor): Ground truth label\n",
    "        \"\"\"\n",
    "        row = self.df.iloc[idx]\n",
    "        sentinel_img = Image.open(row[SENTINEL_COL]).convert(\"RGB\")\n",
    "        osm_img = Image.open(row[OSM_COL]).convert(\"RGB\")\n",
    "\n",
    "        if self.transform:\n",
    "            sentinel_img = self.transform(sentinel_img)\n",
    "            osm_img = self.transform(osm_img)\n",
    "\n",
    "        tabular = torch.tensor(self.tabular_data[idx], dtype=torch.float32)\n",
    "        label = torch.tensor(row[LABEL_COL], dtype=torch.long)\n",
    "        return sentinel_img, osm_img, tabular, label\n"
   ]
  },
  {
   "cell_type": "code",
   "execution_count": null,
   "id": "f3f5fd27",
   "metadata": {},
   "outputs": [],
   "source": [
    "def create_dataloaders(df_train, df_val, df_test, scale_fn):\n",
    "    \"\"\"Creates PyTorch DataLoaders for train, validation and test sets.\n",
    "    \n",
    "    Args:\n",
    "        df_train (pd.DataFrame): Training set DataFrame\n",
    "        df_val (pd.DataFrame): Validation set DataFrame\n",
    "        df_test (pd.DataFrame): Test set DataFrame\n",
    "        scale_fn (callable): Function to scale/normalize tabular data\n",
    "        \n",
    "    Returns:\n",
    "        tuple: Contains:\n",
    "            - train_loader (DataLoader): DataLoader for training set\n",
    "            - val_loader (DataLoader): DataLoader for validation set\n",
    "            - test_loader (DataLoader): DataLoader for test set\n",
    "            - train_ds (VibeDataset): Training dataset object\n",
    "    \"\"\"\n",
    "    transform = transforms.Compose([\n",
    "        transforms.Resize((IMG_SIZE, IMG_SIZE)),\n",
    "        transforms.ToTensor(),\n",
    "        transforms.Normalize([0.485, 0.456, 0.406], [0.229, 0.224, 0.225])\n",
    "    ])\n",
    "\n",
    "    train_ds = VibeDataset(df_train, scale_fn, transform=transform)\n",
    "    val_ds = VibeDataset(df_val, scale_fn, transform=transform)\n",
    "    test_ds = VibeDataset(df_test, scale_fn, transform=transform)\n",
    "    \n",
    "    train_loader = DataLoader(train_ds, batch_size=BATCH_SIZE, shuffle=True)\n",
    "    val_loader = DataLoader(val_ds, batch_size=BATCH_SIZE)\n",
    "    test_loader = DataLoader(test_ds, batch_size=BATCH_SIZE )\n",
    "\n",
    "    return train_loader, val_loader, test_loader, train_ds\n"
   ]
  },
  {
   "cell_type": "code",
   "execution_count": null,
   "id": "da8a72a3",
   "metadata": {},
   "outputs": [],
   "source": [
    "class DualResNetWithMetadata(nn.Module):\n",
    "    \"\"\"A multimodal neural network combining two ResNet50 models (for images) with an MLP (for tabular data).\n",
    "    \n",
    "    Args:\n",
    "        tabular_dim (int): Dimensionality of the tabular features\n",
    "        num_classes (int): Number of output classes\n",
    "        \n",
    "    Attributes:\n",
    "        resnet_sentinel (nn.Module): ResNet50 for Sentinel-2 images\n",
    "        resnet_osm (nn.Module): ResNet50 for OSM images\n",
    "        mlp (nn.Sequential): MLP for processing tabular data\n",
    "        classifier (nn.Sequential): Final classification layers\n",
    "    \"\"\"\n",
    "    def __init__(self, tabular_dim, num_classes):\n",
    "        super().__init__()\n",
    "        self.resnet_sentinel = models.resnet50(weights=models.ResNet50_Weights.DEFAULT)\n",
    "        self.resnet_osm = models.resnet50(weights=models.ResNet50_Weights.DEFAULT)\n",
    "        self.resnet_sentinel.fc = nn.Identity()\n",
    "        self.resnet_osm.fc = nn.Identity()\n",
    "\n",
    "        self.mlp = nn.Sequential(\n",
    "            nn.Linear(tabular_dim, 64),\n",
    "            nn.ReLU(),\n",
    "            nn.Dropout(0.3),\n",
    "            nn.Linear(64, 32),\n",
    "            nn.ReLU()\n",
    "        )\n",
    "\n",
    "        self.classifier = nn.Sequential(\n",
    "            nn.Linear(2048 * 2 + 32, 128),\n",
    "            nn.ReLU(),\n",
    "            nn.Linear(128, num_classes)\n",
    "        )\n",
    "\n",
    "    def forward(self, img_sentinel, img_osm, tabular):\n",
    "        \"\"\"Forward pass of the network.\n",
    "        \n",
    "        Args:\n",
    "            img_sentinel (torch.Tensor): Batch of Sentinel-2 images\n",
    "            img_osm (torch.Tensor): Batch of OSM images\n",
    "            tabular (torch.Tensor): Batch of tabular features\n",
    "            \n",
    "        Returns:\n",
    "            torch.Tensor: Model predictions/logits\n",
    "        \"\"\"\n",
    "        feat_sen = self.resnet_sentinel(img_sentinel)\n",
    "        feat_osm = self.resnet_osm(img_osm)\n",
    "        feat_tab = self.mlp(tabular)\n",
    "        combined = torch.cat([feat_sen, feat_osm, feat_tab], dim=1)\n",
    "        return self.classifier(combined)\n"
   ]
  },
  {
   "cell_type": "code",
   "execution_count": 99,
   "id": "ecee62c6",
   "metadata": {},
   "outputs": [],
   "source": [
    "# Initializing Loss, Optimizer and model\n",
    "from torch import nn\n",
    "from torch.optim import Adam,SGD\n",
    "from torchvision import models\n",
    "from torch.optim.lr_scheduler import StepLR  \n",
    "\n",
    "def initialize_model(tabular_dim, num_classes):\n",
    "    \"\"\"\n",
    "    Initializes the dual-head model with classification and regression outputs.\n",
    "\n",
    "    Returns:\n",
    "        model (nn.Module): Initialized dual-head CNN model.\n",
    "        criterion_cls (nn.Module): Loss function for classification.\n",
    "        criterion_reg (nn.Module): Loss function for regression.\n",
    "        optimizer (torch.optim.Optimizer): Optimizer for training.\n",
    "        scheduler (torch.optim.lr_scheduler): Learning rate scheduler.\n",
    "    \"\"\"\n",
    "    model = DualResNetWithMetadata(tabular_dim,num_classes).to(device)\n",
    "    criterion = nn.CrossEntropyLoss()\n",
    "    optimizer = Adam(model.parameters(), betas=(0.9, 0.99))\n",
    "    scheduler = torch.optim.lr_scheduler.ReduceLROnPlateau(optimizer, mode='min', patience=3, factor=0.5)\n",
    "\n",
    "    return model, criterion,  optimizer, scheduler\n"
   ]
  },
  {
   "cell_type": "markdown",
   "id": "db1cb88f",
   "metadata": {},
   "source": [
    "# Training"
   ]
  },
  {
   "cell_type": "code",
   "execution_count": 5,
   "id": "9c082fde",
   "metadata": {},
   "outputs": [],
   "source": [
    "from tqdm import tqdm\n",
    "def train_one_epoch(model,train_loader,criterion,optimizer):\n",
    "    \"\"\"\n",
    "    Trains the model for one epoch using both classification and regression objectives.\n",
    "\n",
    "    Args:\n",
    "        model (nn.Module): The dual-head model with classification and regression outputs.\n",
    "        train_loader (DataLoader): DataLoader for the training dataset.\n",
    "        criterion (loss): Loss function for the classification head (CrossEntropyLoss).\n",
    "        optimizer (torch.optim.Optimizer): Optimizer for model parameters.\n",
    "\n",
    "    Returns:\n",
    "        float: Total accumulated training loss over the epoch.\n",
    "    \"\"\"\n",
    "    model.train()\n",
    "    train_loss = 0.0\n",
    "    for sentinel_img, osm_img, tabular, label in tqdm(train_loader):\n",
    "        sentinel_img = sentinel_img.to(device)\n",
    "        osm_img = osm_img.to(device)\n",
    "        tabular = tabular.to(device)\n",
    "        label = label.to(device)\n",
    "        \n",
    "        optimizer.zero_grad()\n",
    "        output = model(sentinel_img, osm_img, tabular)\n",
    "        loss = criterion(output, label)\n",
    "        loss.backward()\n",
    "        optimizer.step()\n",
    "        train_loss += loss.item()\n",
    "        \n",
    "    return train_loss"
   ]
  },
  {
   "cell_type": "code",
   "execution_count": 6,
   "id": "dfdc4650",
   "metadata": {},
   "outputs": [],
   "source": [
    "def eval_one_epoch(model, val_loader, criterion):\n",
    "    \"\"\"\n",
    "    Evaluates the model on the validation set for one epoch and computes total loss.\n",
    "\n",
    "    Args:\n",
    "        model (nn.Module): The dual-head model to be evaluated.\n",
    "        val_loader (DataLoader): DataLoader for the validation dataset.\n",
    "        criterion (loss): Classification loss function (CrossEntropyLoss).\n",
    "\n",
    "    Returns:\n",
    "        float: Total validation loss for the epoch.\n",
    "    \"\"\"\n",
    "    model.eval()\n",
    "    val_loss = 0.0\n",
    "    with torch.no_grad():\n",
    "        for sentinel_img, osm_img, tabular, label in tqdm(val_loader):\n",
    "            sentinel_img = sentinel_img.to(device)\n",
    "            osm_img = osm_img.to(device)\n",
    "            tabular = tabular.to(device)\n",
    "            label = label.to(device)\n",
    "            output = model(sentinel_img, osm_img, tabular)\n",
    "            loss = criterion(output, label)\n",
    "            val_loss += loss.item()\n",
    "\n",
    "    return val_loss"
   ]
  },
  {
   "cell_type": "code",
   "execution_count": 7,
   "id": "6b9fc1f9",
   "metadata": {},
   "outputs": [],
   "source": [
    "import matplotlib.pyplot as plt\n",
    "\n",
    "def train(num_epochs, model, criterion,  optimizer, scheduler, train_loader, val_loader):\n",
    "    \"\"\"\n",
    "    Trains the model using dual loss objectives over a specified number of epochs.\n",
    "\n",
    "    Args:\n",
    "        num_epochs (int): Number of training epochs.\n",
    "        model (nn.Module): Model to be trained.\n",
    "        criterion (loss): Classification loss (CrossEntropyLoss).\n",
    "        optimizer (torch.optim.Optimizer): Optimizer for model parameters.\n",
    "        scheduler (lr_scheduler): Learning rate scheduler.\n",
    "        train_loader (DataLoader): DataLoader for training data.\n",
    "        val_loader (DataLoader): DataLoader for validation data.\n",
    "\n",
    "    Returns:\n",
    "        best_model_path (string): Path where the best model is saved\n",
    "        train_loss_list (list of float): Training losses per epoch.\n",
    "        val_loss_list (list of float): Validation losses per epoch.\n",
    "    \"\"\"\n",
    "  \n",
    "    best_val_loss = float('inf')\n",
    "    train_loss_list = []\n",
    "    val_loss_list = []\n",
    "    for epoch in range(num_epochs):\n",
    "        train_loss = train_one_epoch(model,train_loader,criterion,optimizer)\n",
    "        avg_train_loss = train_loss/len(train_loader)\n",
    "        train_loss_list.append(avg_train_loss)\n",
    "        val_loss = eval_one_epoch(model, val_loader, criterion)\n",
    "        avg_val_loss = val_loss/len(val_loader)\n",
    "        val_loss_list.append(avg_val_loss)\n",
    "        scheduler.step(avg_val_loss)\n",
    "        print(f\"Epoch [{epoch+1}/{num_epochs}] | Train Loss: {train_loss / len(train_loader):.4f} | Val Loss: {val_loss / len(val_loader):.4f}\")\n",
    "\n",
    "        if avg_val_loss < best_val_loss:\n",
    "            best_val_loss = avg_val_loss\n",
    "            best_model_path = rf'checkpoints\\best_model_{epoch}_fe_fixed.pt'\n",
    "            torch.save({\n",
    "                'epoch': epoch + 1,\n",
    "                'model_state_dict': model.state_dict(),\n",
    "                'optimizer_state_dict': optimizer.state_dict(),\n",
    "                'loss': avg_val_loss,\n",
    "            }, os.path.join(os.getcwd(), best_model_path))  # Save checkpoint to file\n",
    "            print(f\"Best model saved at epoch {epoch+1} with Val Loss: {avg_val_loss:.4f}\")\n",
    "\n",
    "    return best_model_path, train_loss_list, val_loss_list\n"
   ]
  },
  {
   "cell_type": "code",
   "execution_count": 8,
   "id": "db6b4b49",
   "metadata": {},
   "outputs": [],
   "source": [
    "# PLot the learning Curves\n",
    "def plt_lc(num_epochs,train_loss_list, val_loss_list):\n",
    "    \"\"\"\n",
    "    Plots the training and validation loss curves over epochs.\n",
    "\n",
    "    Args:\n",
    "        num_epochs (int): Total number of epochs.\n",
    "        train_loss_list (list of float): Training loss values.\n",
    "        val_loss_list (list of float): Validation loss values.\n",
    "\n",
    "    Returns:\n",
    "        None\n",
    "    \"\"\"\n",
    "    X = [x+1 for x in range(num_epochs)]\n",
    "    plt.plot(X,train_loss_list, c='r', label= \"Training Curve\")\n",
    "    plt.plot(X,val_loss_list, c='b', label = \"Validation Curve\")\n",
    "    plt.title(\"Learning Curve\")\n",
    "    plt.xlabel(\"Epoch\")\n",
    "    plt.xticks([x for x in range(0,num_epochs,5)])\n",
    "    plt.ylabel(\"Loss\")\n",
    "    plt.legend()\n",
    "    plt.show()"
   ]
  },
  {
   "cell_type": "markdown",
   "id": "f4059e48",
   "metadata": {},
   "source": [
    "# Testing"
   ]
  },
  {
   "cell_type": "code",
   "execution_count": null,
   "id": "d5712234",
   "metadata": {},
   "outputs": [],
   "source": [
    "# Generate Predictions\n",
    "def predict(best_model_path, model, test_loader, num_classes):\n",
    "    \"\"\"\n",
    "    Loads the best checkpoint and evaluates the model on test data.\n",
    "    Also computes and prints classification & regression metrics.\n",
    "\n",
    "    Args:\n",
    "        best_model_path (str): Path to the saved model checkpoint.\n",
    "        model (nn.Module): The model architecture to load weights into.\n",
    "\n",
    "    Returns:\n",
    "        torch.tensor: Confusion Matrix Result\n",
    "    \"\"\"\n",
    "    import torch\n",
    "    from torchmetrics.classification import MulticlassConfusionMatrix\n",
    "    from torchmetrics.classification import Precision, Recall, F1Score\n",
    "    from torchmetrics.classification import Accuracy\n",
    "    from torchmetrics.regression import MeanSquaredError, MeanAbsoluteError, R2Score\n",
    "\n",
    "\n",
    "    # Load the model checkpoint\n",
    "    checkpoint = torch.load(os.path.join(os.getcwd(), best_model_path))\n",
    "    model.load_state_dict(checkpoint['model_state_dict'])\n",
    "    model.to(device)  \n",
    "\n",
    "\n",
    "    # Initialize metrics\n",
    "    confusion_matrix = MulticlassConfusionMatrix(num_classes=num_classes).to(device)\n",
    "    precision = Precision(task=\"multiclass\", num_classes=num_classes, average='macro').to(device)\n",
    "    recall = Recall(task=\"multiclass\", num_classes=num_classes, average='macro').to(device)\n",
    "    f1_score = F1Score(task=\"multiclass\", num_classes=num_classes, average='macro').to(device)\n",
    "    accuracy = Accuracy(task=\"multiclass\", num_classes=num_classes).to(device)\n",
    "\n",
    "    # Initialize storage for labels and predictions\n",
    "    all_labels = []\n",
    "    all_preds = []\n",
    " \n",
    "    # Evaluation\n",
    "    model.eval()\n",
    "    with torch.no_grad():\n",
    "        for sentinel_img, osm_img, tabular, label in tqdm(test_loader):\n",
    "            sentinel_img = sentinel_img.to(device)\n",
    "            osm_img = osm_img.to(device)\n",
    "            tabular = tabular.to(device)\n",
    "            label = label.to(device)\n",
    "            output = model(sentinel_img, osm_img, tabular)\n",
    "        \n",
    "            _, preds = torch.max(output, 1)\n",
    "\n",
    "            # Store predictions and true labels\n",
    "            all_labels.append(label)\n",
    "            all_preds.append(preds)\n",
    "\n",
    "            # Update metrics\n",
    "            confusion_matrix.update(preds, label)\n",
    "            precision.update(preds, label)\n",
    "            recall.update(preds, label)\n",
    "            f1_score.update(preds, label)\n",
    "            accuracy.update(preds, label)\n",
    "           \n",
    "\n",
    "    # Compute final metrics\n",
    "    confusion_matrix_result = confusion_matrix.compute()\n",
    "    precision_result = precision.compute()\n",
    "    recall_result = recall.compute()\n",
    "    f1_score_result = f1_score.compute()\n",
    "    accuracy_result = accuracy.compute()\n",
    "\n",
    "    print(\"Confusion Matrix:\")\n",
    "    print(confusion_matrix_result)\n",
    "    print(f\"Precision: {precision_result:.4f}\")\n",
    "    print(f\"Recall: {recall_result:.4f}\")\n",
    "    print(f\"F1 Score: {f1_score_result:.4f}\")\n",
    "    print(f\"Accuracy: {accuracy_result:.4f}\")\n",
    "    \n",
    "    return confusion_matrix_result\n",
    "\n"
   ]
  },
  {
   "cell_type": "code",
   "execution_count": null,
   "id": "63438d41",
   "metadata": {},
   "outputs": [],
   "source": [
    "import torch\n",
    "import matplotlib.pyplot as plt\n",
    "import seaborn as sns\n",
    "from torchmetrics.classification import MulticlassConfusionMatrix\n",
    "\n",
    "def plot_confusion_matrix(confusion_matrix_result):\n",
    "    \"\"\"\n",
    "    Plots the confusion matrix as a heatmap using seaborn.\n",
    "\n",
    "    Args:\n",
    "        confusion_matrix_result (Tensor): Torch tensor of shape (C, C) representing confusion matrix.\n",
    "\n",
    "    Returns:\n",
    "        None\n",
    "    \"\"\"\n",
    "    # Convert to numpy\n",
    "    confmat_np = confusion_matrix_result.cpu().numpy()\n",
    "    classes = ['Fun','IL','NV','WGW'] \n",
    "    # Plot the heatmap\n",
    "    plt.figure(figsize=(6, 5))\n",
    "    sns.heatmap(confmat_np, annot=True, fmt=\"d\", cmap=\"Blues\", cbar=False,\n",
    "                xticklabels=[f\"Pred {i}\" for i in classes],\n",
    "                yticklabels=[f\"True {i}\" for i in classes])\n",
    "    plt.xlabel(\"Predicted Label\")\n",
    "    plt.ylabel(\"True Label\")\n",
    "    plt.title(\"Confusion Matrix Heatmap\")\n",
    "    plt.tight_layout()\n",
    "    plt.show()\n",
    "    plt.savefig(rf\"D:\\vibe_place_mapper\\results\\cm.png\")"
   ]
  },
  {
   "cell_type": "code",
   "execution_count": 80,
   "id": "231439f4",
   "metadata": {},
   "outputs": [
    {
     "name": "stdout",
     "output_type": "stream",
     "text": [
      "Number of features:5\n"
     ]
    },
    {
     "name": "stderr",
     "output_type": "stream",
     "text": [
      "100%|██████████| 129/129 [00:09<00:00, 13.95it/s]\n",
      "100%|██████████| 38/38 [00:00<00:00, 38.73it/s]\n"
     ]
    },
    {
     "name": "stdout",
     "output_type": "stream",
     "text": [
      "Epoch [1/15] | Train Loss: 1.3994 | Val Loss: 3.6180\n",
      "Best model saved at epoch 1 with Val Loss: 3.6180\n"
     ]
    },
    {
     "name": "stderr",
     "output_type": "stream",
     "text": [
      "100%|██████████| 129/129 [00:08<00:00, 14.92it/s]\n",
      "100%|██████████| 38/38 [00:00<00:00, 41.53it/s]\n"
     ]
    },
    {
     "name": "stdout",
     "output_type": "stream",
     "text": [
      "Epoch [2/15] | Train Loss: 1.1557 | Val Loss: 14.1084\n"
     ]
    },
    {
     "name": "stderr",
     "output_type": "stream",
     "text": [
      "100%|██████████| 129/129 [00:08<00:00, 14.66it/s]\n",
      "100%|██████████| 38/38 [00:00<00:00, 46.00it/s]\n"
     ]
    },
    {
     "name": "stdout",
     "output_type": "stream",
     "text": [
      "Epoch [3/15] | Train Loss: 0.9253 | Val Loss: 3.2993\n",
      "Best model saved at epoch 3 with Val Loss: 3.2993\n"
     ]
    },
    {
     "name": "stderr",
     "output_type": "stream",
     "text": [
      "100%|██████████| 129/129 [00:08<00:00, 14.55it/s]\n",
      "100%|██████████| 38/38 [00:00<00:00, 40.18it/s]\n"
     ]
    },
    {
     "name": "stdout",
     "output_type": "stream",
     "text": [
      "Epoch [4/15] | Train Loss: 0.8367 | Val Loss: 1.8980\n",
      "Best model saved at epoch 4 with Val Loss: 1.8980\n"
     ]
    },
    {
     "name": "stderr",
     "output_type": "stream",
     "text": [
      "100%|██████████| 129/129 [00:08<00:00, 14.35it/s]\n",
      "100%|██████████| 38/38 [00:00<00:00, 44.56it/s]\n"
     ]
    },
    {
     "name": "stdout",
     "output_type": "stream",
     "text": [
      "Epoch [5/15] | Train Loss: 0.7754 | Val Loss: 24.7505\n"
     ]
    },
    {
     "name": "stderr",
     "output_type": "stream",
     "text": [
      "100%|██████████| 129/129 [00:08<00:00, 14.49it/s]\n",
      "100%|██████████| 38/38 [00:00<00:00, 45.52it/s]\n"
     ]
    },
    {
     "name": "stdout",
     "output_type": "stream",
     "text": [
      "Epoch [6/15] | Train Loss: 0.8106 | Val Loss: 6.1647\n"
     ]
    },
    {
     "name": "stderr",
     "output_type": "stream",
     "text": [
      "100%|██████████| 129/129 [00:08<00:00, 14.41it/s]\n",
      "100%|██████████| 38/38 [00:00<00:00, 41.41it/s]\n"
     ]
    },
    {
     "name": "stdout",
     "output_type": "stream",
     "text": [
      "Epoch [7/15] | Train Loss: 0.8061 | Val Loss: 17.5639\n"
     ]
    },
    {
     "name": "stderr",
     "output_type": "stream",
     "text": [
      "100%|██████████| 129/129 [00:08<00:00, 14.82it/s]\n",
      "100%|██████████| 38/38 [00:00<00:00, 43.80it/s]\n"
     ]
    },
    {
     "name": "stdout",
     "output_type": "stream",
     "text": [
      "Epoch [8/15] | Train Loss: 0.7312 | Val Loss: 50.0953\n"
     ]
    },
    {
     "name": "stderr",
     "output_type": "stream",
     "text": [
      "100%|██████████| 129/129 [00:08<00:00, 14.84it/s]\n",
      "100%|██████████| 38/38 [00:00<00:00, 43.15it/s]\n"
     ]
    },
    {
     "name": "stdout",
     "output_type": "stream",
     "text": [
      "Epoch [9/15] | Train Loss: 0.7248 | Val Loss: 15.1478\n"
     ]
    },
    {
     "name": "stderr",
     "output_type": "stream",
     "text": [
      "100%|██████████| 129/129 [00:08<00:00, 14.65it/s]\n",
      "100%|██████████| 38/38 [00:00<00:00, 42.42it/s]\n"
     ]
    },
    {
     "name": "stdout",
     "output_type": "stream",
     "text": [
      "Epoch [10/15] | Train Loss: 0.6976 | Val Loss: 21.6992\n"
     ]
    },
    {
     "name": "stderr",
     "output_type": "stream",
     "text": [
      "100%|██████████| 129/129 [00:08<00:00, 14.79it/s]\n",
      "100%|██████████| 38/38 [00:00<00:00, 43.07it/s]\n"
     ]
    },
    {
     "name": "stdout",
     "output_type": "stream",
     "text": [
      "Epoch [11/15] | Train Loss: 0.6759 | Val Loss: 31.7687\n"
     ]
    },
    {
     "name": "stderr",
     "output_type": "stream",
     "text": [
      "100%|██████████| 129/129 [00:08<00:00, 14.61it/s]\n",
      "100%|██████████| 38/38 [00:00<00:00, 45.03it/s]\n"
     ]
    },
    {
     "name": "stdout",
     "output_type": "stream",
     "text": [
      "Epoch [12/15] | Train Loss: 0.6887 | Val Loss: 27.6431\n"
     ]
    },
    {
     "name": "stderr",
     "output_type": "stream",
     "text": [
      "100%|██████████| 129/129 [00:08<00:00, 14.74it/s]\n",
      "100%|██████████| 38/38 [00:00<00:00, 40.70it/s]\n"
     ]
    },
    {
     "name": "stdout",
     "output_type": "stream",
     "text": [
      "Epoch [13/15] | Train Loss: 0.6288 | Val Loss: 10.5013\n"
     ]
    },
    {
     "name": "stderr",
     "output_type": "stream",
     "text": [
      "100%|██████████| 129/129 [00:08<00:00, 14.42it/s]\n",
      "100%|██████████| 38/38 [00:00<00:00, 43.04it/s]\n"
     ]
    },
    {
     "name": "stdout",
     "output_type": "stream",
     "text": [
      "Epoch [14/15] | Train Loss: 0.5467 | Val Loss: 10.8704\n"
     ]
    },
    {
     "name": "stderr",
     "output_type": "stream",
     "text": [
      "100%|██████████| 129/129 [00:09<00:00, 14.25it/s]\n",
      "100%|██████████| 38/38 [00:00<00:00, 44.75it/s]"
     ]
    },
    {
     "name": "stdout",
     "output_type": "stream",
     "text": [
      "Epoch [15/15] | Train Loss: 0.5058 | Val Loss: 24.2426\n"
     ]
    },
    {
     "name": "stderr",
     "output_type": "stream",
     "text": [
      "\n"
     ]
    },
    {
     "data": {
      "image/png": "[encoded data removed]",
      "text/plain": [
       "<Figure size 640x480 with 1 Axes>"
      ]
     },
     "metadata": {},
     "output_type": "display_data"
    },
    {
     "name": "stderr",
     "output_type": "stream",
     "text": [
      "100%|██████████| 19/19 [00:00<00:00, 43.98it/s]"
     ]
    },
    {
     "name": "stdout",
     "output_type": "stream",
     "text": [
      "Confusion Matrix:\n",
      "tensor([[1, 2, 0, 2],\n",
      "        [1, 1, 2, 1],\n",
      "        [2, 0, 0, 2],\n",
      "        [0, 0, 0, 5]], device='cuda:0')\n",
      "Precision: 0.2708\n",
      "Recall: 0.3500\n",
      "F1 Score: 0.2847\n",
      "Accuracy: 0.3684\n"
     ]
    },
    {
     "name": "stderr",
     "output_type": "stream",
     "text": [
      "\n"
     ]
    },
    {
     "data": {
      "image/png": "[encoded data removed]",
      "text/plain": [
       "<Figure size 600x500 with 1 Axes>"
      ]
     },
     "metadata": {},
     "output_type": "display_data"
    },
    {
     "data": {
      "text/plain": [
       "<Figure size 640x480 with 0 Axes>"
      ]
     },
     "metadata": {},
     "output_type": "display_data"
    }
   ],
   "source": [
    "num_epochs = 15\n",
    "\n",
    "df, num_cols, one_hot_cols, all_tabular_cols = load_and_preprocess_csv(CSV_PATH)\n",
    "df_train, df_val, df_test, scale_fn = split_and_scale(df, all_tabular_cols)\n",
    "train_loader, val_loader, test_loader, train_ds = create_dataloaders(df_train, df_val, df_test, scale_fn)\n",
    "\n",
    "tabular_dim = train_ds[0][2].shape[0]\n",
    "num_classes = df[LABEL_COL].nunique()\n",
    "print(f\"Number of features:{tabular_dim}\")\n",
    "\n",
    "model, criterion, optimizer, scheduler= initialize_model(tabular_dim, num_classes)\n",
    "best_model_path, train_loss_list, val_loss_list = train(num_epochs, model, criterion, optimizer, scheduler, train_loader, val_loader)\n",
    "plt_lc(num_epochs, train_loss_list, val_loss_list)\n",
    "confusion_matrix_result = predict(best_model_path, model, test_loader, num_classes)\n",
    "\n",
    "plot_confusion_matrix(confusion_matrix_result)"
   ]
  }
 ],
 "metadata": {
  "kernelspec": {
   "display_name": "hma",
   "language": "python",
   "name": "python3"
  },
  "language_info": {
   "codemirror_mode": {
    "name": "ipython",
    "version": 3
   },
   "file_extension": ".py",
   "mimetype": "text/x-python",
   "name": "python",
   "nbconvert_exporter": "python",
   "pygments_lexer": "ipython3",
   "version": "3.10.16"
  }
 },
 "nbformat": 4,
 "nbformat_minor": 5
}
